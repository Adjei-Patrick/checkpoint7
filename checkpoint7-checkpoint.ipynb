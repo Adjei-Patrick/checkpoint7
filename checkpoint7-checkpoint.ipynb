{
 "cells": [
  {
   "cell_type": "code",
   "execution_count": 8,
   "id": "3364fc04",
   "metadata": {},
   "outputs": [
    {
     "name": "stdout",
     "output_type": "stream",
     "text": [
      "        noms  score  tentatives qualifier\n",
      "a  Anastasia   12.5           1       oui\n",
      "b       Dima    9.0           3       non\n",
      "c  Katherine   16.5           2       oui\n"
     ]
    }
   ],
   "source": [
    "#écrire un programme pandas pour afficher un datafame à partir des donnés de dictionnaires\n",
    "import pandas as pd\n",
    "import numpy as np\n",
    "\n",
    "exam_data = {\"noms\":[\"Anastasia\", \"Dima\", \"Katherine\", \"Jmaes\", \"Emily\", \"Michael\", \"Matthieu\", \"Laura\", \"Kevin\",\n",
    "                    \"jonas\"],\n",
    "            \"score\": [12.5,9,16.5,np.nan,9,20,14.5,np.nan,8,19],\n",
    "            \"tentatives\": [1,3,2,3,2,3,1,1,2,1],\n",
    "            \"qualifier\": [\"oui\", \"non\", \"oui\", \"non\", \"non\", \"oui\", \"oui\", \"non\", \"non\", \"oui\"]}\n",
    "etiquettes = [\"a\", \"b\", \"c\", \"d\", \"e\", \"f\", \"g\", \"h\", \"i\", \"j\"]\n",
    "\n",
    "df = pd.DataFrame(exam_data, index = etiquettes)\n",
    "\n",
    "print(df.head(3))\n",
    "\n"
   ]
  },
  {
   "cell_type": "code",
   "execution_count": 60,
   "id": "18c534ed",
   "metadata": {},
   "outputs": [
    {
     "name": "stdout",
     "output_type": "stream",
     "text": [
      "        noms  score  tentatives qualifier\n",
      "a  Anastasia   12.5           1       oui\n",
      "b       Dima    9.0           3       non\n",
      "c  Katherine   16.5           2       oui\n",
      "e      Emily    9.0           2       non\n",
      "f    Michael   20.0           3       oui\n",
      "g   Matthieu   14.5           1       oui\n",
      "i      Kevin    8.0           2       non\n",
      "j      jonas   19.0           1       oui\n"
     ]
    }
   ],
   "source": [
    "import pandas as pd\n",
    "import numpy as np\n",
    "\n",
    "exam_data = {\"noms\":[\"Anastasia\", \"Dima\", \"Katherine\", \"Jmaes\", \"Emily\", \"Michael\", \"Matthieu\", \"Laura\", \"Kevin\",\n",
    "                    \"jonas\"],\n",
    "            \"score\": [12.5,9,16.5,np.nan,9,20,14.5,np.nan,8,19],\n",
    "            \"tentatives\": [1,3,2,3,2,3,1,1,2,1],\n",
    "            \"qualifier\": [\"oui\", \"non\", \"oui\", \"non\", \"non\", \"oui\", \"oui\", \"non\", \"non\", \"oui\"]}\n",
    "etiquettes = [\"a\", \"b\", \"c\", \"d\", \"e\", \"f\", \"g\", \"h\", \"i\", \"j\"] \n",
    "\n",
    "df = pd.DataFrame(exam_data, index = etiquettes)\n",
    "\n",
    "df_drop = df.drop([\"d\", \"h\"], axis = 0)\n",
    "\n",
    "print(df_drop)\n"
   ]
  },
  {
   "cell_type": "code",
   "execution_count": 73,
   "id": "e9361c1a",
   "metadata": {},
   "outputs": [
    {
     "name": "stdout",
     "output_type": "stream",
     "text": [
      "        noms  score\n",
      "a  Anastasia   12.5\n",
      "b       Dima    9.0\n",
      "c  Katherine   16.5\n",
      "d      Jmaes    NaN\n",
      "e      Emily    9.0\n",
      "f    Michael   20.0\n",
      "g   Matthieu   14.5\n",
      "h      Laura    NaN\n",
      "i      Kevin    8.0\n",
      "j      jonas   19.0\n"
     ]
    }
   ],
   "source": [
    "#extraire les colonnes noms et score\n",
    "import pandas as pd\n",
    "import numpy as np\n",
    "\n",
    "exam_data = {\"noms\":[\"Anastasia\", \"Dima\", \"Katherine\", \"Jmaes\", \"Emily\", \"Michael\", \"Matthieu\", \"Laura\", \"Kevin\",\n",
    "                    \"jonas\"],\n",
    "            \"score\": [12.5,9,16.5,np.nan,9,20,14.5,np.nan,8,19],\n",
    "            \"tentatives\": [1,3,2,3,2,3,1,1,2,1],\n",
    "            \"qualifier\": [\"oui\", \"non\", \"oui\", \"non\", \"non\", \"oui\", \"oui\", \"non\", \"non\", \"oui\"]}\n",
    "etiquettes = [\"a\", \"b\", \"c\", \"d\", \"e\", \"f\", \"g\", \"h\", \"i\", \"j\"]\n",
    "\n",
    "df = pd.DataFrame(exam_data, index = etiquettes)\n",
    "\n",
    "extraction = df[[\"noms\", \"score\"]]\n",
    "\n",
    "print(extraction)\n",
    "\n"
   ]
  },
  {
   "cell_type": "code",
   "execution_count": 86,
   "id": "399ea855",
   "metadata": {},
   "outputs": [
    {
     "name": "stdout",
     "output_type": "stream",
     "text": [
      "        noms score tentatives qualifier\n",
      "a  Anastasia  12.5          1       oui\n",
      "b       Dima   9.0          3       non\n",
      "c  Katherine  16.5          2       oui\n",
      "d      Jmaes   NaN          3       non\n",
      "e      Emily   9.0          2       non\n",
      "f    Michael  20.0          3       oui\n",
      "g   Matthieu  14.5          1       oui\n",
      "h      Laura   NaN          1       non\n",
      "i      Kevin   8.0          2       non\n",
      "j      jonas  19.0          1       oui\n",
      "k     Suresh  15.5          1       oui\n"
     ]
    }
   ],
   "source": [
    "#écrire un programme pandas pour ajouter une nouvelle ligne \"k\" avec de nouvelles valeurs \n",
    "import pandas as pd\n",
    "import numpy as np\n",
    "\n",
    "exam_data = {\"noms\":[\"Anastasia\", \"Dima\", \"Katherine\", \"Jmaes\", \"Emily\", \"Michael\", \"Matthieu\", \"Laura\", \"Kevin\",\n",
    "                    \"jonas\"],\n",
    "            \"score\": [12.5,9,16.5,np.nan,9,20,14.5,np.nan,8,19],\n",
    "            \"tentatives\": [1,3,2,3,2,3,1,1,2,1],\n",
    "            \"qualifier\": [\"oui\", \"non\", \"oui\", \"non\", \"non\", \"oui\", \"oui\", \"non\", \"non\", \"oui\"]}\n",
    "etiquettes = [\"a\", \"b\", \"c\", \"d\", \"e\", \"f\", \"g\", \"h\", \"i\", \"j\"] \n",
    "\n",
    "df = pd.DataFrame(exam_data, index = etiquettes)\n",
    "\n",
    "new_data = {'noms':'Suresh', 'score':'15.5', 'tentatives':'1', 'qualifier':'oui'}\n",
    "\n",
    "df.loc['k'] = new_data\n",
    "\n",
    "print(df)\n"
   ]
  },
  {
   "cell_type": "code",
   "execution_count": 2,
   "id": "3fe5e2b3",
   "metadata": {},
   "outputs": [
    {
     "name": "stdout",
     "output_type": "stream",
     "text": [
      "        noms  score qualifier\n",
      "a  Anastasia   12.5       oui\n",
      "b       Dima    9.0       non\n",
      "c  Katherine   16.5       oui\n",
      "d      Jmaes    NaN       non\n",
      "e      Emily    9.0       non\n",
      "f    Michael   20.0       oui\n",
      "g   Matthieu   14.5       oui\n",
      "h      Laura    NaN       non\n",
      "i      Kevin    8.0       non\n",
      "j      jonas   19.0       oui\n"
     ]
    }
   ],
   "source": [
    "### écrire un programme pandas qui supprime la colonne 'tentative'\n",
    "import pandas as pd\n",
    "import numpy as np\n",
    "\n",
    "exam_data = {\"noms\":[\"Anastasia\", \"Dima\", \"Katherine\", \"Jmaes\", \"Emily\", \"Michael\", \"Matthieu\", \"Laura\", \"Kevin\",\n",
    "                    \"jonas\"],\n",
    "            \"score\": [12.5,9,16.5,np.nan,9,20,14.5,np.nan,8,19],\n",
    "            \"tentatives\": [1,3,2,3,2,3,1,1,2,1],\n",
    "            \"qualifier\": [\"oui\", \"non\", \"oui\", \"non\", \"non\", \"oui\", \"oui\", \"non\", \"non\", \"oui\"]}\n",
    "etiquettes = [\"a\", \"b\", \"c\", \"d\", \"e\", \"f\", \"g\", \"h\", \"i\", \"j\"]\n",
    "\n",
    "df = pd.DataFrame(exam_data, index = etiquettes)\n",
    "\n",
    "df_drop = df.drop(\"tentatives\", axis = 1)\n",
    "\n",
    "print(df_drop)\n"
   ]
  },
  {
   "cell_type": "code",
   "execution_count": 83,
   "id": "210ddee7",
   "metadata": {},
   "outputs": [
    {
     "name": "stdout",
     "output_type": "stream",
     "text": [
      "        noms  score  tentatives qualifier  succes\n",
      "a  Anastasia   12.5           1       oui       1\n",
      "b       Dima    9.0           3       non       0\n",
      "c  Katherine   16.5           2       oui       1\n",
      "d      Jmaes    NaN           3       non       0\n",
      "e      Emily    9.0           2       non       0\n",
      "f    Michael   20.0           3       oui       1\n",
      "g   Matthieu   14.5           1       oui       1\n",
      "h      Laura    NaN           1       non       0\n",
      "i      Kevin    8.0           2       non       0\n",
      "j      jonas   19.0           1       oui       1\n"
     ]
    }
   ],
   "source": [
    "#ajouter une nouvelle 'succes' à une certaine condition\n",
    "import pandas as pd\n",
    "import numpy as np\n",
    "\n",
    "exam_data = {\"noms\":[\"Anastasia\", \"Dima\", \"Katherine\", \"Jmaes\", \"Emily\", \"Michael\", \"Matthieu\", \"Laura\", \"Kevin\",\n",
    "                    \"jonas\"],\n",
    "            \"score\": [12.5,9,16.5,np.nan,9,20,14.5,np.nan,8,19],\n",
    "            \"tentatives\": [1,3,2,3,2,3,1,1,2,1],\n",
    "            \"qualifier\": [\"oui\", \"non\", \"oui\", \"non\", \"non\", \"oui\", \"oui\", \"non\", \"non\", \"oui\"]}\n",
    "etiquettes = [\"a\", \"b\", \"c\", \"d\", \"e\", \"f\", \"g\", \"h\", \"i\", \"j\"] \n",
    "\n",
    "df = pd.DataFrame(exam_data, index = etiquettes)\n",
    "\n",
    "df['succes'] = np.where(df['score']>10, 1, 0)\n",
    "\n",
    "print(df)\n"
   ]
  },
  {
   "cell_type": "code",
   "execution_count": 4,
   "id": "8ca7035e",
   "metadata": {},
   "outputs": [
    {
     "name": "stdout",
     "output_type": "stream",
     "text": [
      "        noms  score  tentatives qualifier  succes\n",
      "a  Anastasia   12.5           1       oui       1\n",
      "b       Dima    9.0           3       non       0\n",
      "c  Katherine   16.5           2       oui       1\n",
      "d      Jmaes    NaN           3       non       0\n",
      "e      Emily    9.0           2       non       0\n",
      "f    Michael   20.0           3       oui       1\n",
      "g   Matthieu   14.5           1       oui       1\n",
      "h      Laura    NaN           1       non       0\n",
      "i      Kevin    8.0           2       non       0\n",
      "j      jonas   19.0           1       oui       1\n"
     ]
    }
   ],
   "source": [
    "#exporter un fichier csv nommé my_data \n",
    "import pandas as pd\n",
    "import numpy as np\n",
    "\n",
    "exam_data = {\"noms\":[\"Anastasia\", \"Dima\", \"Katherine\", \"Jmaes\", \"Emily\", \"Michael\", \"Matthieu\", \"Laura\", \"Kevin\",\n",
    "                    \"jonas\"],\n",
    "            \"score\": [12.5,9,16.5,np.nan,9,20,14.5,np.nan,8,19],\n",
    "            \"tentatives\": [1,3,2,3,2,3,1,1,2,1],\n",
    "            \"qualifier\": [\"oui\", \"non\", \"oui\", \"non\", \"non\", \"oui\", \"oui\", \"non\", \"non\", \"oui\"]}\n",
    "etiquettes = [\"a\", \"b\", \"c\", \"d\", \"e\", \"f\", \"g\", \"h\", \"i\", \"j\"] \n",
    "\n",
    "df = pd.DataFrame(exam_data, index = etiquettes)\n",
    "\n",
    "df['succes'] = np.where(df['score']>10, 1, 0)\n",
    "\n",
    "print(df)\n",
    "\n",
    "df.to_csv(\"data.csv\")"
   ]
  },
  {
   "cell_type": "code",
   "execution_count": null,
   "id": "a81fe649",
   "metadata": {},
   "outputs": [],
   "source": []
  }
 ],
 "metadata": {
  "kernelspec": {
   "display_name": "Python 3 (ipykernel)",
   "language": "python",
   "name": "python3"
  },
  "language_info": {
   "codemirror_mode": {
    "name": "ipython",
    "version": 3
   },
   "file_extension": ".py",
   "mimetype": "text/x-python",
   "name": "python",
   "nbconvert_exporter": "python",
   "pygments_lexer": "ipython3",
   "version": "3.9.7"
  }
 },
 "nbformat": 4,
 "nbformat_minor": 5
}
